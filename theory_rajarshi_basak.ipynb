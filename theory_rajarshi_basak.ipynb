{
 "cells": [
  {
   "cell_type": "markdown",
   "metadata": {},
   "source": [
    "# Learning Theory Homework \n",
    "***\n",
    "**Name**: $<$Rajarshi Basak$>$ \n",
    "***\n",
    "\n",
    "This assignment is due on Moodle by **5pm on Friday March 9th**. Submit only this Jupyter notebook to Moodle. Do not compress it using tar, rar, zip, etc. Your solutions to analysis questions should be done in Markdown directly below the associated question.  Remember that you are encouraged to discuss the problems with your instructors and classmates, but **you must write all code and solutions on your own**.  For a refresher on the course **Collaboration Policy** click [here](https://github.com/chrisketelsen/CSCI5622-Machine-Learning/blob/master/resources/syllabus.md#collaboration-policy)\n",
    "\n"
   ]
  },
  {
   "cell_type": "markdown",
   "metadata": {},
   "source": [
    "## Overview \n",
    "***\n",
    "\n",
    "In this assignment you will explore the concepts of PAC learnability and VC dimension. \n"
   ]
  },
  {
   "cell_type": "markdown",
   "metadata": {},
   "source": [
    "### [15 points] Problem 1: \n",
    "***\n",
    "\n",
    "Consider the class C of concepts defined by triangles with **distinct** vertices of the form $(i, j)$ where $i$ and $j$ are integers in the interval $[0,99]$. A concept c labels points on the interior and boundary of the associated triangle as positive and points exterior to the triangle as negative.\n",
    "\n",
    "**Note**: To make life easier, we'll allow degenerate triangles in $C$. That is, triangles where the vertices are collinear. The following image depicts an example of a nondegenerate and a degenerate triangle."
   ]
  },
  {
   "cell_type": "markdown",
   "metadata": {},
   "source": [
    "<img src=\"figs/triangles.png\" width=400 height=50>  "
   ]
  },
  {
   "cell_type": "markdown",
   "metadata": {},
   "source": [
    "**Part A**: Suppose we have an algorithm that produces a consistent $h$ from the hypothesis class $H = C$. Give a bound on the number of training examples sufficient to assure that for any target concept $c$ in $C$, our algorithm will, with probability $1-\\delta$, output a hypothesis $h$ with generalization error at most $\\epsilon$."
   ]
  },
  {
   "cell_type": "markdown",
   "metadata": {
    "collapsed": true
   },
   "source": [
    "**Solution**: We note that there a finite number of concepts in $C$.  For the consistent case we can then use the bound \n",
    "\n",
    "$$\n",
    "m \\geq \\frac{1}{\\epsilon}\\left(\\ln\\left| H \\right| + \\ln\\frac{1}{\\delta} \\right)\n",
    "$$\n",
    "\n",
    "provided that we can calculate the cardinality of $H$. Since degenerate triangles are allowed in $C$, and $i$ and $j$ are in the intervals $[0,99]$, the number of ways of picking a triangle would be $10,000 C_3$. This is because there are 10,000 points to choose from in the $i$-$j$ space (as there are 100 points for both $i$ and $j$, and 100 $\\times$ 100 = 10,000), and we need to pick any 3 points from these 10,000 to uniquely define a triangle. Hence the number of ways of picking 3 points from 10,000 points is given by $10,000 C_3$.\n",
    "\n",
    "Thus we have\n",
    "\n",
    "$$\n",
    "\\left| H \\right| = {{10000}\\choose{3}} = \\frac{10000\\times 9999 \\times 9998}{3} = 1.6661667 \\times 10^{11}\n",
    "$$\n",
    "\n",
    "and \n",
    "\n",
    "$$\n",
    "\\quad \\Rightarrow \\quad \\ln\\left| H \\right| \\approx 25.84\n",
    "$$\n",
    "\n",
    "Thus our required bound on the number of training examples (that is sufficient to assure that for any target concept $c$ in $C$, our algorithm will, with probability $1-\\delta$, output a hypothesis $h$ with generalization error at most $\\epsilon$) is \n",
    "\n",
    "$$\n",
    "m \\geq \\frac{1}{\\epsilon}\\left(25.84 + \\ln\\frac{1}{\\delta} \\right)\n",
    "$$"
   ]
  },
  {
   "cell_type": "markdown",
   "metadata": {},
   "source": [
    "**Part B**: Based on your bound in **Part A**, determine the minimum number of training examples necessary such that for any target concept $c$ in $C$, our algorithm will, with probability $0.95$, output a hypothesis $h$ with generalization error at most $0.15$.  "
   ]
  },
  {
   "cell_type": "markdown",
   "metadata": {
    "collapsed": true
   },
   "source": [
    "**Solution**: Given $\\epsilon = 0.15$ and $\\delta = 0.05$, our bound becomes\n",
    "\n",
    "$$\n",
    "m \\geq \\frac{1}{0.15}\\left(25.84 + \\ln\\frac{1}{0.05} \\right) \\approx 192.0078\n",
    "$$\n",
    "\n",
    "Thus to achieve the required accuracy and confidence targets, we need  $m \\geq 193$ training examples. "
   ]
  },
  {
   "cell_type": "markdown",
   "metadata": {},
   "source": [
    "### [15 points] Problem 2: \n",
    "***\n",
    "\n",
    "Consider feature vectors that live in two-dimensional space and the class of hypotheses defined by circles **centered at the origin**. There are two different kinds of hypotheses $h$ in this class. One type of hypthesis classifies points as positive if they lie on the boundary or **interior** of the circle, and negative otherwise. The other type of hypothesis classifies points as positive if they lie on the boundary or **exterior** of the circle, and negative otherwise. State and prove (rigorously) the VC dimension of this family of classifiers."
   ]
  },
  {
   "cell_type": "code",
   "execution_count": 16,
   "metadata": {},
   "outputs": [
    {
     "data": {
      "image/png": "[encoded data removed]",
      "text/plain": [
       "<matplotlib.figure.Figure at 0x1ef9e070cc0>"
      ]
     },
     "metadata": {},
     "output_type": "display_data"
    }
   ],
   "source": [
    "import matplotlib.pyplot as plt\n",
    "circle1 = plt.Circle((0, 0), 1.7, color='yellow')\n",
    "ax = plt.gca()\n",
    "ax.cla() \n",
    "ax.set_xlim((-5, 5))\n",
    "ax.set_ylim((-5, 5))\n",
    "plt.plot([1], [1], 'bo')\n",
    "plt.plot([2],[2], 'ro')\n",
    "ax.add_artist(circle1)\n",
    "plt.show()"
   ]
  },
  {
   "cell_type": "code",
   "execution_count": 17,
   "metadata": {},
   "outputs": [
    {
     "data": {
      "image/png": "[encoded data removed]",
      "text/plain": [
       "<matplotlib.figure.Figure at 0x1ef9e070128>"
      ]
     },
     "metadata": {},
     "output_type": "display_data"
    }
   ],
   "source": [
    "import matplotlib.pyplot as plt\n",
    "circle1 = plt.Circle((0, 0), 4.0, color='yellow')\n",
    "ax = plt.gca()\n",
    "ax.cla() \n",
    "ax.set_xlim((-5, 5))\n",
    "ax.set_ylim((-5, 5))\n",
    "plt.plot([1,2], [1,2], 'bo')\n",
    "#plt.plot([2],[2], 'ro')\n",
    "ax.add_artist(circle1)\n",
    "plt.show()"
   ]
  },
  {
   "cell_type": "code",
   "execution_count": 18,
   "metadata": {},
   "outputs": [
    {
     "data": {
      "image/png": "[encoded data removed]",
      "text/plain": [
       "<matplotlib.figure.Figure at 0x1ef9e1b4fd0>"
      ]
     },
     "metadata": {},
     "output_type": "display_data"
    }
   ],
   "source": [
    "import matplotlib.pyplot as plt\n",
    "circle1 = plt.Circle((0, 0), 0.5, color='yellow')\n",
    "ax = plt.gca()\n",
    "ax.cla() \n",
    "ax.set_xlim((-5, 5))\n",
    "ax.set_ylim((-5, 5))\n",
    "plt.plot([1,2], [1,2], 'ro')\n",
    "#plt.plot([2],[2], 'ro')\n",
    "ax.add_artist(circle1)\n",
    "plt.show()"
   ]
  },
  {
   "cell_type": "code",
   "execution_count": 19,
   "metadata": {},
   "outputs": [
    {
     "data": {
      "image/png": "[encoded data removed]",
      "text/plain": [
       "<matplotlib.figure.Figure at 0x1ef9df4ba90>"
      ]
     },
     "metadata": {},
     "output_type": "display_data"
    }
   ],
   "source": [
    "import matplotlib.pyplot as plt\n",
    "circle1 = plt.Circle((0, 0), 1.7, color='lightgreen')\n",
    "ax = plt.gca()\n",
    "ax.cla() \n",
    "ax.set_xlim((-5, 5))\n",
    "ax.set_ylim((-5, 5))\n",
    "plt.plot([1], [1], 'ro')\n",
    "plt.plot([2],[2], 'bo')\n",
    "ax.add_artist(circle1)\n",
    "plt.show()"
   ]
  },
  {
   "cell_type": "code",
   "execution_count": 20,
   "metadata": {},
   "outputs": [
    {
     "data": {
      "image/png": "[encoded data removed]",
      "text/plain": [
       "<matplotlib.figure.Figure at 0x1ef9e5a65c0>"
      ]
     },
     "metadata": {},
     "output_type": "display_data"
    }
   ],
   "source": [
    "import matplotlib.pyplot as plt\n",
    "circle1 = plt.Circle((0, 0), 1.7, color='yellow')\n",
    "ax = plt.gca()\n",
    "ax.cla() \n",
    "ax.set_xlim((-5, 5))\n",
    "ax.set_ylim((-5, 5))\n",
    "plt.plot([1,3], [1,3], 'bo')\n",
    "plt.plot([2],[2], 'ro')\n",
    "#ax.add_artist(circle1)\n",
    "plt.show()"
   ]
  },
  {
   "cell_type": "markdown",
   "metadata": {},
   "source": [
    "In the above figures, a **blue** point is a **positive** point, a **red** point is a **negative** point, a **yellow hypothesis circle** classifies points as positive if they lie on the boundary or interior of the circle, and negative otherwise, and a **green hypothesis circle** classifies points as positive if they lie on the boundary or exterior of the circle, and negative otherwise "
   ]
  },
  {
   "cell_type": "markdown",
   "metadata": {},
   "source": [
    "**Solution**: \n",
    "\n",
    "Suppose there are two points in the first quadrant at (1,1) - radii $r_1$ = 1, and at (2,2) - radii $r_2$ = 2 .\n",
    "Let the point at $r_1$ be a blue (positive) point, and that at $r_2$ be a red (negative) point, then there are four possible configurations. \n",
    "\n",
    "First we consider the two points to be located at different distances from the origin.<br>\n",
    "(1) When the point at (1,1) is positive and (2,2) is negative, a circle with radii $r_1 \\leq r < r_2  $ would classify the points correctly if we consider it to be from the first type of hypothesis class.<br>\n",
    "(2) When both the points are positive, a circle with radii $r \\geq r_2$ would classify the points correctly if we consider it to be from the first type of hypothesis class.<br>\n",
    "(3) When both the points are negative, a circle with radii $r \\leq r_1$ would classify the points correctly if we consider it to be from the first type hypothesis class.<br>\n",
    "(4) When the point at (1,1) is negative and (2,2) is positive, it is not possible to have a similar circle that classifies the point at (2,2) positive without also classifying the point at (1,1) positive (i.e any such circle will necessarily also classify the point at (1,1) positive and not negative, which is what we require.) However, a circle from the second type of hypothesis class with $r_1 \\leq r < r_2$ would now classify these two points correctly. \n",
    "\n",
    "Hence the two types of circles in our hypothesis class are able to shatter all possible configurations of two points.\n",
    "Thus the VC-dimension of our cirlces centered at the origin is now at least 2. Now we need to show at least one configuration for 3 points that these two types of circles are not able to shatter.\n",
    "\n",
    "Let there be three points on a line in the first quadrant on a line passing throough the origin at (1,1), (2,2) and (3,3) for points 1,2 and 3 respectively. Let point 1 be positive, point 2 be negative, and point 3 be positive. Then none of the two types of hypothesis circles will be able to correctly classify all the 3 points correctly.\n",
    "\n",
    "Since we have found at least one configuration for which 3 points cannot be correctly classified, the VC dimension in this case in not 3. Therefore the VC dimension is 2."
   ]
  },
  {
   "cell_type": "markdown",
   "metadata": {},
   "source": [
    "### [20 points] Problem 3: Empirical Verification of PAC Bounds for Axis-Aligned Rectangles \n",
    "***\n",
    "\n",
    "In the in-class notebook associated with PAC Learnability, we proved a PAC bound for the class of concepts $C$ comprised of axis-aligned rectangles living in $\\mathbb{R}^2$ of the form $(a \\leq x \\leq b) \\wedge (c \\leq y \\leq d)$ where $a, b, c, d$ are real numbers. Specifically, we proved that with probability $1-\\delta$, any consistent learner could learn a hypothesis $h$ in $H = C$ with generalization error less than $\\epsilon$ provided that the number of training examples satisfied \n",
    "\n",
    "$$\n",
    "m > \\frac{4}{\\epsilon}\\log\\frac{4}{\\delta}\n",
    "$$\n",
    "\n",
    "In this problem you will empirically verify this bound for the restricted concept class $C$ where the rectangles are defined by $(a \\leq x \\leq b) \\wedge (c \\leq y \\leq d)$ where $a, b, c, d$ are real numbers satisfying $0 \\leq a \\leq b \\leq 100$ and $0 \\leq c \\leq d \\leq 100$. \n",
    "\n",
    "**Part A**: The following is a general outline of how you should accomplish this, but it is up to you how you organize your code. "
   ]
  },
  {
   "cell_type": "markdown",
   "metadata": {},
   "source": [
    "- Write some code that randomly generates a concept rectangle $c$. \n",
    "\n",
    "\n",
    "\n",
    "- Write some code that, given feature vectors of length-2, labels them according to some rectangle (that is, labels a point positive if the point is on the boundary or interior of the rectangle, and negative otherwise).  \n",
    "\n",
    "\n",
    "\n",
    "- Write some code that, given training examples of length-2, and labeled according to a concept $c$, returns a consistent hypothesis rectangle $h$. \n",
    "\n",
    "\n",
    "\n",
    "- Write some code that generates a training set of size $m$, labels them according to a random concept $c$, learns a consistent hypothesis $h$, and then approximates the generalization error by predicting on $1000$ new examples from the same distribution as the training data. \n",
    "\n",
    "\n",
    "- Write some code that computes approximate generalization errors for $100$ independent concepts $c$ and associated training sets of size $m$, and returns the worst-case generalization error at the confidence level $1-\\delta$.  One way to do this in the case that say $\\delta = 0.05$, is to report the $95^\\textrm{th}$ percentile of the $100$ samples of the generalization error. We can then say that, in our simulation, $100(1-\\delta)\\%$ of our observed generalization errors were less than our computed value. (**Bonus**: If your code is efficient, try increasing the number of runs in the simulation to $500$. This should give you a better approximation of the generalization error.) "
   ]
  },
  {
   "cell_type": "code",
   "execution_count": 21,
   "metadata": {},
   "outputs": [
    {
     "name": "stdout",
     "output_type": "stream",
     "text": [
      "The coordinates of the concept rectangle are: [ 11.45228491  34.86569311], [ 33.07068123  93.22341392]\n",
      "The coordinates of the hypothesis rectangle are: [11.72619259923483, 34.102714236511112],[33.520626139219566, 86.510889215393334]\n",
      "The generalization error is 0.027\n",
      "The maximum generalization error is: 0.05\n",
      "The 95th percentile of error is: 0.028\n"
     ]
    },
    {
     "data": {
      "image/png": "[encoded data removed]",
      "text/plain": [
       "<matplotlib.figure.Figure at 0x1ef9e547710>"
      ]
     },
     "metadata": {},
     "output_type": "display_data"
    }
   ],
   "source": [
    "import matplotlib.pyplot as plt\n",
    "import numpy as np\n",
    "\n",
    "# Labelling a point according to a concept \n",
    "def labeller(point, xs, ys):\n",
    "    if xs[0]<=point[0] and point[0]<=xs[1] and ys[0]<=point[1] and point[1]<=ys[1]:\n",
    "        lb = 1\n",
    "    else:\n",
    "        lb = -1\n",
    "    return lb\n",
    "\n",
    "# Generating the hypothesis rectangle\n",
    "def hyprect(xtr, ytr):\n",
    "    index = np.where(ytr>0)\n",
    "    k = len(index[0])\n",
    "    if (k==0):\n",
    "        x = [0, 0]\n",
    "        y = [0, 0]\n",
    "    else:\n",
    "        x1 = np.min(xtr[index,0])\n",
    "        x2 = np.max(xtr[index,0])\n",
    "        y1 = np.min(xtr[index,1])\n",
    "        y2 = np.max(xtr[index,1])\n",
    "        x = [x1, x2]\n",
    "        y = [y1, y2]\n",
    "    return x, y\n",
    "\n",
    "# Calculating the generalization error\n",
    "def error(prediction, testset):\n",
    "    j = 0\n",
    "    for k in range(len(prediction)):\n",
    "        if prediction[k]!=testset[k]:\n",
    "            j+=1\n",
    "    return j/len(prediction)\n",
    "\n",
    "# Given a training set of m points and a concept, generate the hypothesis\n",
    "def hyptrain(m, conx, cony):\n",
    "    xtrain = np.reshape(np.random.uniform(low=0, high=100, size=2*m), (m,2)) \n",
    "    ytrain = np.empty((m))\n",
    "    for i in range(m):\n",
    "        ytrain[i] = labeller(xtrain[i], conx, cony)\n",
    "    return hyprect(xtrain, ytrain)\n",
    "\n",
    "# Using the test set to compute the generalization error\n",
    "def testerror(n, conx, cony, hypx, hypy):\n",
    "    xtest = np.reshape(np.random.uniform(low=0, high=100, size=2*n), (n,2)) \n",
    "    pred = np.empty((n))\n",
    "    ytest = np.empty((n))\n",
    "    for i in range(n):\n",
    "        ytest[i] = labeller(xtest[i], conx, cony)\n",
    "    for i in range(n):\n",
    "        pred[i] = labeller(xtest[i], hypx, hypy)\n",
    "    ab = error(pred, ytest)\n",
    "    return ab\n",
    "\n",
    "# Computing the approximate generalization errors for 500 independent concepts c and associated training sets of size m , \n",
    "# and returning the worst-case generalization error\n",
    "def batch(m, d, itr=500):\n",
    "    ntest = 1000\n",
    "    generror = np.empty((itr))\n",
    "    for i in range(itr):\n",
    "        rd = np.random.uniform(low=0, high=100, size=4)\n",
    "        conx = np.sort(rd[:2])\n",
    "        cony = np.sort(rd[2:])\n",
    "        hypx, hypy = hyptrain(m, conx, cony)\n",
    "        generror[i] = testerror(ntest, conx, cony, hypx, hypy)\n",
    "    print(\"The maximum generalization error is: {}\".format(np.max(generror)))\n",
    "    print(\"The {}th percentile of error is: {}\".format(int(100*(1-d)), np.percentile(generror, 100*(1-d))))\n",
    "    return generror, np.max(generror), np.percentile(generror, 100*(1-d))\n",
    "\n",
    "def part_A():\n",
    "    rnd = np.random.uniform(low=0, high=100, size=4)\n",
    "    conx = np.sort(rnd[:2])\n",
    "    cony = np.sort(rnd[2:])\n",
    "    hypx, hypy = hyptrain(250, conx, cony)\n",
    "    generror = testerror(1000, conx, cony, hypx, hypy)\n",
    "    print('The coordinates of the concept rectangle are: {}, {}'.format(conx, cony))\n",
    "    print('The coordinates of the hypothesis rectangle are: {},{}'.format(hypx, hypy))\n",
    "    print('The generalization error is {}'.format(generror))\n",
    "    generror,maxerror,percerror = batch(m=250, d = 0.05, itr = 500)\n",
    "    plt.hist(generror, bins=100)\n",
    "    plt.title(\"Histogram for Generalization error\")\n",
    "    plt.xlabel('Generalization error')\n",
    "    plt.ylabel('Number of examples')\n",
    "    plt.show()\n",
    "    \n",
    "part_A()"
   ]
  },
  {
   "cell_type": "markdown",
   "metadata": {
    "collapsed": true
   },
   "source": [
    "**Part B**: Use your code to estimate the generalization error with confidence parameter $\\delta=0.05$ for training sets of size $m$ where $m = 250, 500, 1000, 1250,$ and $1500$ and the data are comprised of points $(x,y)$ where the $x$- and $y$-values are sampled from the continuous uniform distribution $\\textrm{unif}(0,100)$. Make a **log-log** plot with $m$ on the horizontal axes and $\\epsilon$ on the vertical axis.  Additionally, overlay the theoretical PAC bound on your graph and discuss your results. "
   ]
  },
  {
   "cell_type": "code",
   "execution_count": 41,
   "metadata": {},
   "outputs": [
    {
     "name": "stdout",
     "output_type": "stream",
     "text": [
      "For m = 250\n",
      "The maximum generalization error is: 0.041\n",
      "The 95th percentile of error is: 0.028\n",
      "For m = 500\n",
      "The maximum generalization error is: 0.026\n",
      "The 95th percentile of error is: 0.015\n",
      "For m = 1000\n",
      "The maximum generalization error is: 0.013\n",
      "The 95th percentile of error is: 0.008\n",
      "For m = 1250\n",
      "The maximum generalization error is: 0.014\n",
      "The 95th percentile of error is: 0.008\n",
      "For m = 1500\n",
      "The maximum generalization error is: 0.01\n",
      "The 95th percentile of error is: 0.007\n"
     ]
    },
    {
     "data": {
      "image/png": "[encoded data removed]",
      "text/plain": [
       "<matplotlib.figure.Figure at 0x1ef9e117b00>"
      ]
     },
     "metadata": {},
     "output_type": "display_data"
    }
   ],
   "source": [
    "def part_B():\n",
    "    d = 0.05\n",
    "    mvals = np.array([250, 500, 1000, 1250, 1500])\n",
    "    maxerrors = np.empty((len(mvals)))\n",
    "    generrors = np.empty((len(mvals)))\n",
    "    percerrors = np.empty((len(mvals)))\n",
    "    for i,m in enumerate(mvals):\n",
    "        print (\"For m =\", m)\n",
    "        _, maxerrors[i],_ = batch(m, d, itr=500)\n",
    "    epsilon = (4.0/mvals)*np.log(4.0/d)\n",
    "    plt.loglog(mvals, maxerrors)\n",
    "    plt.loglog(mvals, epsilon, label='Theoretical PAC bound', color = 'blue')\n",
    "    plt.title('Plot of Epsilon vs. number of training examples')\n",
    "    plt.xlabel('Number of training examples')\n",
    "    plt.ylabel('Epsilon')\n",
    "    plt.legend(loc=0)\n",
    "    plt.show()\n",
    "\n",
    "part_B()"
   ]
  },
  {
   "cell_type": "markdown",
   "metadata": {},
   "source": [
    "**Discussions for Part B**: As shown above, the error goes down as we increase the number of training examples. This demonstrates the concept of PAC learnability. Also, the empirical error (almost) always stays below the theoretical PAC bound. "
   ]
  },
  {
   "cell_type": "markdown",
   "metadata": {
    "collapsed": true
   },
   "source": [
    "**Part C**: Repeat **Part B** where the data are comprised of points $(x,y)$ where the $x$- and $y$-values are sampled from the normal distribution with mean $\\mu = 50$ and standard deviation $\\sigma = 25$. Again, overlay the theoretical PAC bound on your graph and discuss your results. Do you expect to observe very different results than those observed in **Part B**?  "
   ]
  },
  {
   "cell_type": "code",
   "execution_count": 43,
   "metadata": {},
   "outputs": [
    {
     "name": "stdout",
     "output_type": "stream",
     "text": [
      "For m = 250\n",
      "The maximum generalization error is: 0.062\n",
      "The 95th percentile of error is: 0.029\n",
      "For m = 500\n",
      "The maximum generalization error is: 0.023\n",
      "The 95th percentile of error is: 0.016\n",
      "For m = 1000\n",
      "The maximum generalization error is: 0.016\n",
      "The 95th percentile of error is: 0.008049999999999955\n",
      "For m = 1250\n",
      "The maximum generalization error is: 0.014\n",
      "The 95th percentile of error is: 0.008\n",
      "For m = 1500\n",
      "The maximum generalization error is: 0.012\n",
      "The 95th percentile of error is: 0.006\n"
     ]
    },
    {
     "data": {
      "image/png": "[encoded data removed]",
      "text/plain": [
       "<matplotlib.figure.Figure at 0x1ef9bc9e2e8>"
      ]
     },
     "metadata": {},
     "output_type": "display_data"
    }
   ],
   "source": [
    "# Given a training set of m points from a normal distribution with mean = 50 and standard deviaton = 25 and a concept, \n",
    "# generate the hypothesis\n",
    "def hyptrainnormal(m, conx, cony):\n",
    "    xtrain = np.reshape(np.random.normal(loc = 50, scale = 25, size=2*m), (m,2)) \n",
    "    ytrain = np.empty((m))\n",
    "    for i in range(m):\n",
    "        ytrain[i] = labeller(xtrain[i], conx, cony)\n",
    "    return hyprect(xtrain, ytrain)\n",
    "\n",
    "# Using the test set (generated from a normal distribution with mean = 50 and standard deviaton = 25) \n",
    "# to compute the generalization error\n",
    "def testerrornormal(n, conx, cony, hypx, hypy):\n",
    "    xtest = np.reshape(np.random.normal(loc = 50, scale = 25, size=2*n), (n,2)) \n",
    "    pred = np.empty((n))\n",
    "    ytest = np.empty((n))\n",
    "    for i in range(n):\n",
    "        ytest[i] = labeller(xtest[i], conx, cony)\n",
    "    for i in range(n):\n",
    "        pred[i] = labeller(xtest[i], hypx, hypy)\n",
    "    ab = error(pred, ytest)\n",
    "    return ab\n",
    "\n",
    "# Computing the approximate generalization errors for 500 independent concepts c and associated training sets of size m , \n",
    "# and returning the worst-case generalization error\n",
    "def batchnormal(m, d, itr=500):\n",
    "    ntest = 1000\n",
    "    generror = np.empty((itr))\n",
    "    for i in range(itr):\n",
    "        rd = np.random.normal(loc=50, scale = 25, size=4)\n",
    "        conx = np.sort(rd[:2])\n",
    "        cony = np.sort(rd[2:])\n",
    "        hypx, hypy = hyptrainnormal(m, conx, cony)\n",
    "        generror[i] = testerrornormal(ntest, conx, cony, hypx, hypy)\n",
    "    print(\"The maximum generalization error is: {}\".format(np.max(generror)))\n",
    "    print(\"The {}th percentile of error is: {}\".format(int(100*(1-d)), np.percentile(generror, 100*(1-d))))\n",
    "    return generror, np.max(generror), np.percentile(generror, 100*(1-d))\n",
    "\n",
    "def part_C():\n",
    "    d = 0.05\n",
    "    mvals = np.array([250, 500, 1000, 1250, 1500])\n",
    "    maxerrors = np.empty((len(mvals)))\n",
    "    generrors = np.empty((len(mvals)))\n",
    "    percerrors = np.empty((len(mvals)))\n",
    "    for i,m in enumerate(mvals):\n",
    "        print (\"For m =\", m)\n",
    "        _, maxerrors[i],_ = batchnormal(m, d, itr=500)\n",
    "    epsilon = (4.0/mvals)*np.log(4.0/d)\n",
    "    plt.loglog(mvals, maxerrors)\n",
    "    plt.loglog(mvals, epsilon, label='Theoretical PAC bound', color = 'blue')\n",
    "    plt.title('Plot of Epsilon vs. number of training examples')\n",
    "    plt.xlabel('Number of training examples')\n",
    "    plt.ylabel('Epsilon')\n",
    "    plt.legend(loc=0)\n",
    "    plt.show()\n",
    "\n",
    "part_C()"
   ]
  },
  {
   "cell_type": "markdown",
   "metadata": {},
   "source": [
    "**Discussions for Part C**: As shown above, the behaviour of $\\epsilon$ is similar to that for Part B (i.e. with points sampled from a uniform distribution). In other words, there is no change when we change the distribution to a normal distribution from an unifrom one, and the prediction stays mostly below the theoretical prediction - this happnes because we sample the concept rectangle, the training set and the test set from the normal distribution instead of the uniform distribution (from which they were sampled for Part B). <br>\n",
    "It was observed that this changes when we sample the training set from the normal distribution, and the concept rectangle and the test set from the uniform distribution - in this case the predicted error overshoots the theoretical prediction."
   ]
  }
 ],
 "metadata": {
  "kernelspec": {
   "display_name": "Python 3",
   "language": "python",
   "name": "python3"
  },
  "language_info": {
   "codemirror_mode": {
    "name": "ipython",
    "version": 3
   },
   "file_extension": ".py",
   "mimetype": "text/x-python",
   "name": "python",
   "nbconvert_exporter": "python",
   "pygments_lexer": "ipython3",
   "version": "3.6.1"
  }
 },
 "nbformat": 4,
 "nbformat_minor": 2
}
