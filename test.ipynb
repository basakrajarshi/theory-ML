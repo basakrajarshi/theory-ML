{
 "cells": [
  {
   "cell_type": "code",
   "execution_count": 72,
   "metadata": {},
   "outputs": [
    {
     "name": "stdout",
     "output_type": "stream",
     "text": [
      "x1 is  9\n",
      "y1 is  30\n",
      "x2 is  94\n",
      "y2 is  74\n",
      "The points are  ( 9 , 30 ) , ( 94 , 30 ) , ( 9 , 74 ) , ( 94 , 74 )\n"
     ]
    },
    {
     "data": {
      "text/plain": [
       "[9, 30, 94, 74]"
      ]
     },
     "execution_count": 72,
     "metadata": {},
     "output_type": "execute_result"
    }
   ],
   "source": [
    "# Generate the points for the concept rectangles\n",
    "import random\n",
    "def conrect():\n",
    "    x1 = 0\n",
    "    x2 = 0\n",
    "    y1 = 0\n",
    "    y2 = 0\n",
    "    cr = []\n",
    "    for i in range(2):\n",
    "        while (x2 == x1 or y2 == y1):\n",
    "            x1 = random.randint(0,100)\n",
    "            x2 = random.randint(0,100)\n",
    "            y1 = random.randint(0,100)\n",
    "            y2 = random.randint(0,100)\n",
    "            if (x2 != x1 or y2 != y1):\n",
    "                if (x1 > x2):\n",
    "                    a = x1\n",
    "                    x1 = x2\n",
    "                    x2 = a\n",
    "                if (y1 > y2):\n",
    "                    a = y1\n",
    "                    y1 = y2\n",
    "                    y2 = a\n",
    "                #cr.append((x1,x2,y1,y2))\n",
    "                print (\"x1 is \", x1)\n",
    "                print (\"y1 is \", y1)\n",
    "                print (\"x2 is \", x2)\n",
    "                print (\"y2 is \", y2) \n",
    "                print (\"The points are \", \"(\",x1,\",\",y1,\")\", \",\", \"(\",x2,\",\",y1,\")\", \",\", \"(\",x1,\",\",y2,\")\", \",\", \"(\",x2,\",\",y2,\")\" )\n",
    "                cr.append(x1)\n",
    "                cr.append(y1)\n",
    "                cr.append(x2)\n",
    "                cr.append(y2)\n",
    "    return (cr)\n",
    "conrect()"
   ]
  },
  {
   "cell_type": "code",
   "execution_count": 90,
   "metadata": {},
   "outputs": [],
   "source": [
    "# Classify a training set according to the concept class\n",
    "\n",
    "def classifypoints(points):\n",
    "    cr = conrect()\n",
    "    x1 = cr[0]\n",
    "    y1 = cr[1]\n",
    "    x2 = cr[2]\n",
    "    y2 = cr[3]\n",
    "    positive = []\n",
    "    negative = []\n",
    "    posxs = []\n",
    "    posys = [] \n",
    "    negxs = []\n",
    "    negys = []\n",
    "    for point in points:\n",
    "        p1 = point[0]\n",
    "        p2 = point[1]\n",
    "        if (p1 >= x1 and p1 <= x2 and p2 >= y1 and p2 <= y2 ):\n",
    "                positive.append(point)\n",
    "                posxs.append(p1)\n",
    "                posys.append(p2)\n",
    "        else:\n",
    "                negative.append(point)\n",
    "                negxs.append(p1)\n",
    "                negys.append(p2)\n",
    "    print (\"The positive points are\", positive)\n",
    "    print (\"The negative points are\", negative)\n",
    "    return (positive, negative)"
   ]
  },
  {
   "cell_type": "code",
   "execution_count": 91,
   "metadata": {},
   "outputs": [],
   "source": [
    "# Generate the hypothesis rectangle \n",
    "def hyporect(posxs, posys):\n",
    "    #given training examples of length-2\n",
    "    #labeled according to a concept c\n",
    "    #returns a consistent hypothesis rectangle h\n",
    "    hx1 = min(posxs)\n",
    "    hx2 = max(posxs)\n",
    "    hy1 = min(posys)\n",
    "    hy2 = max(posys)\n",
    "    hr.append(hx1)\n",
    "    hr.append(hy1)\n",
    "    hr.append(hx2)\n",
    "    hr.append(hy2)\n",
    "    print (hx1, hy1, hx2, hy2)\n",
    "    return (hr)"
   ]
  },
  {
   "cell_type": "code",
   "execution_count": 96,
   "metadata": {},
   "outputs": [
    {
     "name": "stdout",
     "output_type": "stream",
     "text": [
      "x1 is  10\n",
      "y1 is  19\n",
      "x2 is  17\n",
      "y2 is  86\n",
      "The points are  ( 10 , 19 ) , ( 17 , 19 ) , ( 10 , 86 ) , ( 17 , 86 )\n",
      "The positive points are [[17, 72], [17, 69]]\n",
      "The negative points are [[52, 74], [39, 27], [92, 7], [5, 8], [11, 5], [68, 24], [93, 46], [92, 18], [96, 82], [27, 21], [41, 9], [86, 89], [20, 76], [80, 73], [53, 60], [64, 64], [28, 42], [79, 25], [52, 57], [96, 99], [27, 50], [69, 13], [50, 98], [0, 73], [80, 70], [46, 18], [98, 14], [86, 90], [65, 38], [2, 94], [84, 49], [100, 31], [28, 11], [74, 92], [21, 22], [7, 5], [72, 9], [97, 31], [2, 83], [64, 31], [43, 98], [96, 56], [25, 53], [82, 47], [93, 44], [38, 55], [40, 82], [93, 24], [42, 66], [83, 85], [32, 59], [84, 60], [80, 99], [76, 24], [5, 64], [79, 55], [23, 45], [95, 3], [51, 65], [45, 91], [25, 35], [54, 64], [88, 31], [96, 7], [27, 29], [79, 20], [98, 94], [0, 87], [7, 92], [66, 87], [29, 97], [61, 49], [44, 99], [4, 91], [67, 76], [47, 65], [37, 44], [53, 79], [50, 79], [31, 90], [24, 85], [53, 3], [62, 9], [9, 48], [51, 40], [82, 100], [8, 13], [3, 47], [49, 49], [45, 77], [33, 86], [94, 51], [79, 97], [64, 35], [61, 26], [46, 72], [59, 60], [99, 61]]\n",
      "The number of positive points are  2\n",
      "The number of negative points are  98\n"
     ]
    }
   ],
   "source": [
    "# Generate a training set of size m , label them according to a random concept c , learn a consistent hypothesish \n",
    "def trainingpoints():\n",
    "    #cr = conrect()\n",
    "    point = []\n",
    "    points = []\n",
    "    positive = []\n",
    "    negative = []\n",
    "    while (len(points) != 100):\n",
    "        p1 = random.randint(0,100)\n",
    "        p2 = random.randint(0,100)\n",
    "        point.append(p1)\n",
    "        point.append(p2)\n",
    "        while (point not in points):\n",
    "            points.append(point)\n",
    "        point = []\n",
    "    positive, negative = classifypoints(points)\n",
    "    #classifypoints(points)\n",
    "    print (\"The number of positive points are \", len(positive))\n",
    "    print (\"The number of negative points are \", len(negative))\n",
    "    return \n",
    "trainingpoints()"
   ]
  },
  {
   "cell_type": "code",
   "execution_count": null,
   "metadata": {
    "collapsed": true
   },
   "outputs": [],
   "source": [
    "# Approximate the generalization error by predicting on 1000 new examples from the same distribution as the training data\n",
    "def predict(tsize, cr, hr):\n",
    "    testpoint = []\n",
    "    testpoints = []\n",
    "    while (len(testpoints) != tsize):\n",
    "        p1 = random.randint(0,100)\n",
    "        p2 = random.randint(0,100)\n",
    "        testpoint.append(p1)\n",
    "        testpoint.append(p2)\n",
    "        while (point not in points):\n",
    "            testpoints.append(testpoint)\n",
    "        testpoint = []\n",
    "    #Predict the generalization error on these 1000 new examples\n",
    "    #Need the concept rectangle\n",
    "    #Need the hypothesis rectangle\n",
    "    \n",
    "    for i in testpoints:\n",
    "        if ():"
   ]
  }
 ],
 "metadata": {
  "kernelspec": {
   "display_name": "Python 3",
   "language": "python",
   "name": "python3"
  },
  "language_info": {
   "codemirror_mode": {
    "name": "ipython",
    "version": 3
   },
   "file_extension": ".py",
   "mimetype": "text/x-python",
   "name": "python",
   "nbconvert_exporter": "python",
   "pygments_lexer": "ipython3",
   "version": "3.6.1"
  }
 },
 "nbformat": 4,
 "nbformat_minor": 2
}
