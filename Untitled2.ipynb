{
 "cells": [
  {
   "cell_type": "code",
   "execution_count": 49,
   "metadata": {},
   "outputs": [
    {
     "name": "stdout",
     "output_type": "stream",
     "text": [
      "The coordinates of the concept rectangle are: [ 15.00746214  53.55784969], [ 23.11232545  60.48975015]\n",
      "The coordinates of the hypothesis rectangle are: [16.321047552378253, 52.865213748550623],[23.220176454588483, 60.347554597322492]\n",
      "The generalization error is 0.003\n",
      "The maximum generalization error is: 0.06\n",
      "The 95th percentile of error is: 0.029\n"
     ]
    },
    {
     "data": {
      "image/png": "[encoded data removed]",
      "text/plain": [
       "<matplotlib.figure.Figure at 0x1cf79d5bd30>"
      ]
     },
     "metadata": {},
     "output_type": "display_data"
    }
   ],
   "source": [
    "import matplotlib.pyplot as plt\n",
    "import numpy as np\n",
    "\n",
    "# Labelling a point according to a concept \n",
    "def labeller(point, xs, ys):\n",
    "    if xs[0]<=point[0] and point[0]<=xs[1] and ys[0]<=point[1] and point[1]<=ys[1]:\n",
    "        lb = 1\n",
    "    else:\n",
    "        lb = -1\n",
    "    return lb\n",
    "\n",
    "# Generating the hypothesis rectangle\n",
    "def hyprect(xtr, ytr):\n",
    "    index = np.where(ytr>0)\n",
    "    k = len(index[0])\n",
    "    if (k==0):\n",
    "        x = [0, 0]\n",
    "        y = [0, 0]\n",
    "    else:\n",
    "        x1 = np.min(xtr[index,0])\n",
    "        x2 = np.max(xtr[index,0])\n",
    "        y1 = np.min(xtr[index,1])\n",
    "        y2 = np.max(xtr[index,1])\n",
    "        x = [x1, x2]\n",
    "        y = [y1, y2]\n",
    "    return x, y\n",
    "\n",
    "# Calculating the generalization error\n",
    "def error(prediction, testset):\n",
    "    j = 0\n",
    "    for k in range(len(prediction)):\n",
    "        if prediction[k]!=testset[k]:\n",
    "            j+=1\n",
    "    return j/len(prediction)\n",
    "\n",
    "# Given a training set of m points and a concept, generate the hypothesis\n",
    "def hyptrain(m, conx, cony):\n",
    "    xtrain = np.reshape(np.random.uniform(low=0, high=100, size=2*m), (m,2)) \n",
    "    ytrain = np.empty((m))\n",
    "    for i in range(m):\n",
    "        ytrain[i] = labeller(xtrain[i], conx, cony)\n",
    "    return hyprect(xtrain, ytrain)\n",
    "\n",
    "# Using the test set to compute the generalization error\n",
    "def testerror(n, conx, cony, hypx, hypy):\n",
    "    xtest = np.reshape(np.random.uniform(low=0, high=100, size=2*n), (n,2)) \n",
    "    pred = np.empty((n))\n",
    "    ytest = np.empty((n))\n",
    "    for i in range(n):\n",
    "        ytest[i] = labeller(xtest[i], conx, cony)\n",
    "    for i in range(n):\n",
    "        pred[i] = labeller(xtest[i], hypx, hypy)\n",
    "    ab = error(pred, ytest)\n",
    "    return ab\n",
    "\n",
    "# Computing the approximate generalization errors for 500 independent concepts c and associated training sets of size m , \n",
    "# and returning the worst-case generalization error\n",
    "def batch(m, d, itr=500):\n",
    "    ntest = 1000\n",
    "    generror = np.empty((itr))\n",
    "    for i in range(itr):\n",
    "        rd = np.random.uniform(low=0, high=100, size=4)\n",
    "        conx = np.sort(rd[:2])\n",
    "        cony = np.sort(rd[2:])\n",
    "        hypx, hypy = hyptrain(m, conx, cony)\n",
    "        generror[i] = testerror(ntest, conx, cony, hypx, hypy)\n",
    "    print(\"The maximum generalization error is: {}\".format(np.max(generror)))\n",
    "    print(\"The {}th percentile of error is: {}\".format(int(100*(1-d)), np.percentile(generror, 100*(1-d))))\n",
    "    return generror, np.max(generror), np.percentile(generror, 100*(1-d))\n",
    "\n",
    "def part_A():\n",
    "    rnd = np.random.uniform(low=0, high=100, size=4)\n",
    "    conx = np.sort(rnd[:2])\n",
    "    cony = np.sort(rnd[2:])\n",
    "    hypx, hypy = hyptrain(250, conx, cony)\n",
    "    generror = testerror(1000, conx, cony, hypx, hypy)\n",
    "    print('The coordinates of the concept rectangle are: {}, {}'.format(conx, cony))\n",
    "    print('The coordinates of the hypothesis rectangle are: {},{}'.format(hypx, hypy))\n",
    "    print('The generalization error is {}'.format(generror))\n",
    "    generror,maxerror,percerror = batch(m=250, d = 0.05, itr = 500)\n",
    "    plt.hist(generror, bins=100)\n",
    "    plt.title(\"Histogram for Generalization error\")\n",
    "    plt.xlabel('Generalization error')\n",
    "    plt.ylabel('Number of examples')\n",
    "    plt.show()\n",
    "    \n",
    "part_A()"
   ]
  },
  {
   "cell_type": "code",
   "execution_count": 50,
   "metadata": {},
   "outputs": [
    {
     "name": "stdout",
     "output_type": "stream",
     "text": [
      "For m = 250\n",
      "The maximum generalization error is: 0.042\n",
      "The 95th percentile of error is: 0.028\n",
      "For m = 500\n",
      "The maximum generalization error is: 0.03\n",
      "The 95th percentile of error is: 0.016\n",
      "For m = 1000\n",
      "The maximum generalization error is: 0.016\n",
      "The 95th percentile of error is: 0.008\n",
      "For m = 1250\n",
      "The maximum generalization error is: 0.011\n",
      "The 95th percentile of error is: 0.007\n",
      "For m = 1500\n",
      "The maximum generalization error is: 0.011\n",
      "The 95th percentile of error is: 0.006\n"
     ]
    },
    {
     "data": {
      "image/png": "[encoded data removed]",
      "text/plain": [
       "<matplotlib.figure.Figure at 0x1cf7a49ca20>"
      ]
     },
     "metadata": {},
     "output_type": "display_data"
    }
   ],
   "source": [
    "def part_B():\n",
    "    d = 0.05\n",
    "    mvals = np.array([250, 500, 1000, 1250, 1500])\n",
    "    maxerrors = np.empty((len(mvals)))\n",
    "    generrors = np.empty((len(mvals)))\n",
    "    percerrors = np.empty((len(mvals)))\n",
    "    for i,m in enumerate(mvals):\n",
    "        print (\"For m =\", m)\n",
    "        _, maxerrors[i],_ = batch(m, d, itr=500)\n",
    "    epsilon = (4.0/mvals)*np.log(4.0/d)\n",
    "    plt.loglog(mvals, maxerrors)\n",
    "    plt.loglog(mvals, epsilon, label='Theoretical prediction', color = 'blue')\n",
    "    plt.title('Plot of Epsilon vs. number of training examples')\n",
    "    plt.xlabel('Number of training examples')\n",
    "    plt.ylabel('Epsilon')\n",
    "    plt.legend(loc=0)\n",
    "    plt.show()\n",
    "\n",
    "part_B()"
   ]
  },
  {
   "cell_type": "code",
   "execution_count": 53,
   "metadata": {},
   "outputs": [
    {
     "name": "stdout",
     "output_type": "stream",
     "text": [
      "For m = 250\n"
     ]
    },
    {
     "ename": "TypeError",
     "evalue": "uniform() got an unexpected keyword argument 'loc'",
     "output_type": "error",
     "traceback": [
      "\u001b[1;31m---------------------------------------------------------------------------\u001b[0m",
      "\u001b[1;31mTypeError\u001b[0m                                 Traceback (most recent call last)",
      "\u001b[1;32m<ipython-input-53-56fad8a95b39>\u001b[0m in \u001b[0;36m<module>\u001b[1;34m()\u001b[0m\n\u001b[0;32m     53\u001b[0m     \u001b[0mplt\u001b[0m\u001b[1;33m.\u001b[0m\u001b[0mshow\u001b[0m\u001b[1;33m(\u001b[0m\u001b[1;33m)\u001b[0m\u001b[1;33m\u001b[0m\u001b[0m\n\u001b[0;32m     54\u001b[0m \u001b[1;33m\u001b[0m\u001b[0m\n\u001b[1;32m---> 55\u001b[1;33m \u001b[0mpart_C\u001b[0m\u001b[1;33m(\u001b[0m\u001b[1;33m)\u001b[0m\u001b[1;33m\u001b[0m\u001b[0m\n\u001b[0m",
      "\u001b[1;32m<ipython-input-53-56fad8a95b39>\u001b[0m in \u001b[0;36mpart_C\u001b[1;34m()\u001b[0m\n\u001b[0;32m     43\u001b[0m     \u001b[1;32mfor\u001b[0m \u001b[0mi\u001b[0m\u001b[1;33m,\u001b[0m\u001b[0mm\u001b[0m \u001b[1;32min\u001b[0m \u001b[0menumerate\u001b[0m\u001b[1;33m(\u001b[0m\u001b[0mmvals\u001b[0m\u001b[1;33m)\u001b[0m\u001b[1;33m:\u001b[0m\u001b[1;33m\u001b[0m\u001b[0m\n\u001b[0;32m     44\u001b[0m         \u001b[0mprint\u001b[0m \u001b[1;33m(\u001b[0m\u001b[1;34m\"For m =\"\u001b[0m\u001b[1;33m,\u001b[0m \u001b[0mm\u001b[0m\u001b[1;33m)\u001b[0m\u001b[1;33m\u001b[0m\u001b[0m\n\u001b[1;32m---> 45\u001b[1;33m         \u001b[0m_\u001b[0m\u001b[1;33m,\u001b[0m \u001b[0mmaxerrors\u001b[0m\u001b[1;33m[\u001b[0m\u001b[0mi\u001b[0m\u001b[1;33m]\u001b[0m\u001b[1;33m,\u001b[0m\u001b[0m_\u001b[0m \u001b[1;33m=\u001b[0m \u001b[0mbatchnormal\u001b[0m\u001b[1;33m(\u001b[0m\u001b[0mm\u001b[0m\u001b[1;33m,\u001b[0m \u001b[0md\u001b[0m\u001b[1;33m,\u001b[0m \u001b[0mitr\u001b[0m\u001b[1;33m=\u001b[0m\u001b[1;36m500\u001b[0m\u001b[1;33m)\u001b[0m\u001b[1;33m\u001b[0m\u001b[0m\n\u001b[0m\u001b[0;32m     46\u001b[0m     \u001b[0mepsilon\u001b[0m \u001b[1;33m=\u001b[0m \u001b[1;33m(\u001b[0m\u001b[1;36m4.0\u001b[0m\u001b[1;33m/\u001b[0m\u001b[0mmvals\u001b[0m\u001b[1;33m)\u001b[0m\u001b[1;33m*\u001b[0m\u001b[0mnp\u001b[0m\u001b[1;33m.\u001b[0m\u001b[0mlog\u001b[0m\u001b[1;33m(\u001b[0m\u001b[1;36m4.0\u001b[0m\u001b[1;33m/\u001b[0m\u001b[0md\u001b[0m\u001b[1;33m)\u001b[0m\u001b[1;33m\u001b[0m\u001b[0m\n\u001b[0;32m     47\u001b[0m     \u001b[0mplt\u001b[0m\u001b[1;33m.\u001b[0m\u001b[0mloglog\u001b[0m\u001b[1;33m(\u001b[0m\u001b[0mmvals\u001b[0m\u001b[1;33m,\u001b[0m \u001b[0mmaxerrors\u001b[0m\u001b[1;33m)\u001b[0m\u001b[1;33m\u001b[0m\u001b[0m\n",
      "\u001b[1;32m<ipython-input-53-56fad8a95b39>\u001b[0m in \u001b[0;36mbatchnormal\u001b[1;34m(m, d, itr)\u001b[0m\n\u001b[0;32m     30\u001b[0m         \u001b[0mcony\u001b[0m \u001b[1;33m=\u001b[0m \u001b[0mnp\u001b[0m\u001b[1;33m.\u001b[0m\u001b[0msort\u001b[0m\u001b[1;33m(\u001b[0m\u001b[0mrd\u001b[0m\u001b[1;33m[\u001b[0m\u001b[1;36m2\u001b[0m\u001b[1;33m:\u001b[0m\u001b[1;33m]\u001b[0m\u001b[1;33m)\u001b[0m\u001b[1;33m\u001b[0m\u001b[0m\n\u001b[0;32m     31\u001b[0m         \u001b[0mhypx\u001b[0m\u001b[1;33m,\u001b[0m \u001b[0mhypy\u001b[0m \u001b[1;33m=\u001b[0m \u001b[0mhyptrainnormal\u001b[0m\u001b[1;33m(\u001b[0m\u001b[0mm\u001b[0m\u001b[1;33m,\u001b[0m \u001b[0mconx\u001b[0m\u001b[1;33m,\u001b[0m \u001b[0mcony\u001b[0m\u001b[1;33m)\u001b[0m\u001b[1;33m\u001b[0m\u001b[0m\n\u001b[1;32m---> 32\u001b[1;33m         \u001b[0mgenerror\u001b[0m\u001b[1;33m[\u001b[0m\u001b[0mi\u001b[0m\u001b[1;33m]\u001b[0m \u001b[1;33m=\u001b[0m \u001b[0mtesterrornormal\u001b[0m\u001b[1;33m(\u001b[0m\u001b[0mntest\u001b[0m\u001b[1;33m,\u001b[0m \u001b[0mconx\u001b[0m\u001b[1;33m,\u001b[0m \u001b[0mcony\u001b[0m\u001b[1;33m,\u001b[0m \u001b[0mhypx\u001b[0m\u001b[1;33m,\u001b[0m \u001b[0mhypy\u001b[0m\u001b[1;33m)\u001b[0m\u001b[1;33m\u001b[0m\u001b[0m\n\u001b[0m\u001b[0;32m     33\u001b[0m     \u001b[0mprint\u001b[0m\u001b[1;33m(\u001b[0m\u001b[1;34m\"The maximum generalization error is: {}\"\u001b[0m\u001b[1;33m.\u001b[0m\u001b[0mformat\u001b[0m\u001b[1;33m(\u001b[0m\u001b[0mnp\u001b[0m\u001b[1;33m.\u001b[0m\u001b[0mmax\u001b[0m\u001b[1;33m(\u001b[0m\u001b[0mgenerror\u001b[0m\u001b[1;33m)\u001b[0m\u001b[1;33m)\u001b[0m\u001b[1;33m)\u001b[0m\u001b[1;33m\u001b[0m\u001b[0m\n\u001b[0;32m     34\u001b[0m     \u001b[0mprint\u001b[0m\u001b[1;33m(\u001b[0m\u001b[1;34m\"The {}th percentile of error is: {}\"\u001b[0m\u001b[1;33m.\u001b[0m\u001b[0mformat\u001b[0m\u001b[1;33m(\u001b[0m\u001b[0mint\u001b[0m\u001b[1;33m(\u001b[0m\u001b[1;36m100\u001b[0m\u001b[1;33m*\u001b[0m\u001b[1;33m(\u001b[0m\u001b[1;36m1\u001b[0m\u001b[1;33m-\u001b[0m\u001b[0md\u001b[0m\u001b[1;33m)\u001b[0m\u001b[1;33m)\u001b[0m\u001b[1;33m,\u001b[0m \u001b[0mnp\u001b[0m\u001b[1;33m.\u001b[0m\u001b[0mpercentile\u001b[0m\u001b[1;33m(\u001b[0m\u001b[0mgenerror\u001b[0m\u001b[1;33m,\u001b[0m \u001b[1;36m100\u001b[0m\u001b[1;33m*\u001b[0m\u001b[1;33m(\u001b[0m\u001b[1;36m1\u001b[0m\u001b[1;33m-\u001b[0m\u001b[0md\u001b[0m\u001b[1;33m)\u001b[0m\u001b[1;33m)\u001b[0m\u001b[1;33m)\u001b[0m\u001b[1;33m)\u001b[0m\u001b[1;33m\u001b[0m\u001b[0m\n",
      "\u001b[1;32m<ipython-input-53-56fad8a95b39>\u001b[0m in \u001b[0;36mtesterrornormal\u001b[1;34m(n, conx, cony, hypx, hypy)\u001b[0m\n\u001b[0;32m     10\u001b[0m \u001b[1;31m# Using the test set to compute the generalization error\u001b[0m\u001b[1;33m\u001b[0m\u001b[1;33m\u001b[0m\u001b[0m\n\u001b[0;32m     11\u001b[0m \u001b[1;32mdef\u001b[0m \u001b[0mtesterrornormal\u001b[0m\u001b[1;33m(\u001b[0m\u001b[0mn\u001b[0m\u001b[1;33m,\u001b[0m \u001b[0mconx\u001b[0m\u001b[1;33m,\u001b[0m \u001b[0mcony\u001b[0m\u001b[1;33m,\u001b[0m \u001b[0mhypx\u001b[0m\u001b[1;33m,\u001b[0m \u001b[0mhypy\u001b[0m\u001b[1;33m)\u001b[0m\u001b[1;33m:\u001b[0m\u001b[1;33m\u001b[0m\u001b[0m\n\u001b[1;32m---> 12\u001b[1;33m     \u001b[0mxtest\u001b[0m \u001b[1;33m=\u001b[0m \u001b[0mnp\u001b[0m\u001b[1;33m.\u001b[0m\u001b[0mreshape\u001b[0m\u001b[1;33m(\u001b[0m\u001b[0mnp\u001b[0m\u001b[1;33m.\u001b[0m\u001b[0mrandom\u001b[0m\u001b[1;33m.\u001b[0m\u001b[0muniform\u001b[0m\u001b[1;33m(\u001b[0m\u001b[0mloc\u001b[0m\u001b[1;33m=\u001b[0m\u001b[1;36m50\u001b[0m\u001b[1;33m,\u001b[0m \u001b[0mscale\u001b[0m \u001b[1;33m=\u001b[0m \u001b[1;36m25\u001b[0m\u001b[1;33m,\u001b[0m \u001b[0msize\u001b[0m\u001b[1;33m=\u001b[0m\u001b[1;36m2\u001b[0m\u001b[1;33m*\u001b[0m\u001b[0mn\u001b[0m\u001b[1;33m)\u001b[0m\u001b[1;33m,\u001b[0m \u001b[1;33m(\u001b[0m\u001b[0mn\u001b[0m\u001b[1;33m,\u001b[0m\u001b[1;36m2\u001b[0m\u001b[1;33m)\u001b[0m\u001b[1;33m)\u001b[0m\u001b[1;33m\u001b[0m\u001b[0m\n\u001b[0m\u001b[0;32m     13\u001b[0m     \u001b[0mpred\u001b[0m \u001b[1;33m=\u001b[0m \u001b[0mnp\u001b[0m\u001b[1;33m.\u001b[0m\u001b[0mempty\u001b[0m\u001b[1;33m(\u001b[0m\u001b[1;33m(\u001b[0m\u001b[0mn\u001b[0m\u001b[1;33m)\u001b[0m\u001b[1;33m)\u001b[0m\u001b[1;33m\u001b[0m\u001b[0m\n\u001b[0;32m     14\u001b[0m     \u001b[0mytest\u001b[0m \u001b[1;33m=\u001b[0m \u001b[0mnp\u001b[0m\u001b[1;33m.\u001b[0m\u001b[0mempty\u001b[0m\u001b[1;33m(\u001b[0m\u001b[1;33m(\u001b[0m\u001b[0mn\u001b[0m\u001b[1;33m)\u001b[0m\u001b[1;33m)\u001b[0m\u001b[1;33m\u001b[0m\u001b[0m\n",
      "\u001b[1;32mmtrand.pyx\u001b[0m in \u001b[0;36mmtrand.RandomState.uniform (numpy\\random\\mtrand\\mtrand.c:19116)\u001b[1;34m()\u001b[0m\n",
      "\u001b[1;31mTypeError\u001b[0m: uniform() got an unexpected keyword argument 'loc'"
     ]
    }
   ],
   "source": [
    "# Given a training set of m points from a normal distribution with mean = 50 and standard deviaton = 25 and a concept, \n",
    "# generate the hypothesis\n",
    "def hyptrainnormal(m, conx, cony):\n",
    "    xtrain = np.reshape(np.random.normal(loc = 50, scale = 25, size=2*m), (m,2)) \n",
    "    ytrain = np.empty((m))\n",
    "    for i in range(m):\n",
    "        ytrain[i] = labeller(xtrain[i], conx, cony)\n",
    "    return hyprect(xtrain, ytrain)\n",
    "\n",
    "# Using the test set to compute the generalization error\n",
    "def testerrornormal(n, conx, cony, hypx, hypy):\n",
    "    xtest = np.reshape(np.random.uniform(loc=50, scale = 25, size=2*n), (n,2)) \n",
    "    pred = np.empty((n))\n",
    "    ytest = np.empty((n))\n",
    "    for i in range(n):\n",
    "        ytest[i] = labeller(xtest[i], conx, cony)\n",
    "    for i in range(n):\n",
    "        pred[i] = labeller(xtest[i], hypx, hypy)\n",
    "    ab = error(pred, ytest)\n",
    "    return ab\n",
    "\n",
    "# Computing the approximate generalization errors for 500 independent concepts c and associated training sets of size m , \n",
    "# and returning the worst-case generalization error\n",
    "def batchnormal(m, d, itr=500):\n",
    "    ntest = 1000\n",
    "    generror = np.empty((itr))\n",
    "    for i in range(itr):\n",
    "        rd = np.random.uniform(low=0, high=100, size=4)\n",
    "        conx = np.sort(rd[:2])\n",
    "        cony = np.sort(rd[2:])\n",
    "        hypx, hypy = hyptrainnormal(m, conx, cony)\n",
    "        generror[i] = testerrornormal(ntest, conx, cony, hypx, hypy)\n",
    "    print(\"The maximum generalization error is: {}\".format(np.max(generror)))\n",
    "    print(\"The {}th percentile of error is: {}\".format(int(100*(1-d)), np.percentile(generror, 100*(1-d))))\n",
    "    return generror, np.max(generror), np.percentile(generror, 100*(1-d))\n",
    "\n",
    "def part_C():\n",
    "    d = 0.05\n",
    "    mvals = np.array([250, 500, 1000, 1250, 1500])\n",
    "    maxerrors = np.empty((len(mvals)))\n",
    "    generrors = np.empty((len(mvals)))\n",
    "    percerrors = np.empty((len(mvals)))\n",
    "    for i,m in enumerate(mvals):\n",
    "        print (\"For m =\", m)\n",
    "        _, maxerrors[i],_ = batchnormal(m, d, itr=500)\n",
    "    epsilon = (4.0/mvals)*np.log(4.0/d)\n",
    "    plt.loglog(mvals, maxerrors)\n",
    "    plt.loglog(mvals, epsilon, label='Theoretical prediction', color = 'blue')\n",
    "    plt.title('Plot of Epsilon vs. number of training examples')\n",
    "    plt.xlabel('Number of training examples')\n",
    "    plt.ylabel('Epsilon')\n",
    "    plt.legend(loc=0)\n",
    "    plt.show()\n",
    "\n",
    "part_C()"
   ]
  },
  {
   "cell_type": "code",
   "execution_count": null,
   "metadata": {
    "collapsed": true
   },
   "outputs": [],
   "source": []
  }
 ],
 "metadata": {
  "kernelspec": {
   "display_name": "Python 3",
   "language": "python",
   "name": "python3"
  },
  "language_info": {
   "codemirror_mode": {
    "name": "ipython",
    "version": 3
   },
   "file_extension": ".py",
   "mimetype": "text/x-python",
   "name": "python",
   "nbconvert_exporter": "python",
   "pygments_lexer": "ipython3",
   "version": "3.6.1"
  }
 },
 "nbformat": 4,
 "nbformat_minor": 2
}
