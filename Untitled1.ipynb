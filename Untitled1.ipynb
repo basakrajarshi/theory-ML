{
 "cells": [
  {
   "cell_type": "code",
   "execution_count": 78,
   "metadata": {
    "collapsed": true
   },
   "outputs": [],
   "source": [
    "import matplotlib.pyplot as plt\n",
    "import numpy as np"
   ]
  },
  {
   "cell_type": "code",
   "execution_count": 79,
   "metadata": {
    "collapsed": true
   },
   "outputs": [],
   "source": [
    "# Labelling a point according to a concept \n",
    "def labeller(point, xs, ys):\n",
    "    #lb = 0\n",
    "    if (xs[0] <= point[0] and point[0] >= xs[1] and ys[0] <= point[1] and point[1] <= ys[1]):\n",
    "        lb = 1\n",
    "    else:\n",
    "        lb = -1\n",
    "    return lb"
   ]
  },
  {
   "cell_type": "code",
   "execution_count": 80,
   "metadata": {
    "collapsed": true
   },
   "outputs": [],
   "source": [
    "# Generating the hypothesis rectangle\n",
    "def hyprect(xtr, ytr):\n",
    "    index = np.where(ytr > 0)\n",
    "    k = len(index[0])\n",
    "    if (k == 0):\n",
    "        x = [0,0]\n",
    "        y = [0,0]\n",
    "    else:\n",
    "        x1 = np.min(xtr[index,0])\n",
    "        x2 = np.max(xtr[index,0])\n",
    "        y1 = np.min(xtr[index,1])\n",
    "        y2 = np.max(xtr[index,1])\n",
    "        x = [x1, x2]\n",
    "        y = [y1, y2]\n",
    "    return x,y"
   ]
  },
  {
   "cell_type": "code",
   "execution_count": 81,
   "metadata": {
    "collapsed": true
   },
   "outputs": [],
   "source": [
    "# Calculating the generalization error\n",
    "def error(predictions, testset):\n",
    "    j = 0\n",
    "    for i in range(len(predictions)):\n",
    "        if (predictions[i] != testset[i]):\n",
    "            j+=1\n",
    "    err = j/len(predictions)\n",
    "    return err"
   ]
  },
  {
   "cell_type": "code",
   "execution_count": 82,
   "metadata": {
    "collapsed": true
   },
   "outputs": [],
   "source": [
    "# Given a training set of m points and a concept, generate the hypothesis\n",
    "def hyptrain(m, conx, cony):\n",
    "    xtrain = np.reshape(np.random.uniform(low=0, high=100, size=2*m), (m,2))\n",
    "    ytrain = np.empty((m))\n",
    "    for j in range(m):\n",
    "        ytrain[j] = labeller(xtrain[j], conx, cony)\n",
    "    a,b = hyprect(xtrain, ytrain)\n",
    "    return a,b"
   ]
  },
  {
   "cell_type": "code",
   "execution_count": 83,
   "metadata": {
    "collapsed": true
   },
   "outputs": [],
   "source": [
    "# Using the test set to compute the generalization error\n",
    "def testerror(n, conx, cony, hypx, hypy):\n",
    "    xtest = np.reshape(np.random.uniform(low=0, high=100, size=2*n), (n,2)) \n",
    "    pred = np.empty((n))\n",
    "    ytest = np.empty_like(pred)\n",
    "    #ytest = np.empty((n))\n",
    "    for i in range(n):\n",
    "        ytest[i] = labeller(xtest[i], conx, cony)\n",
    "    for j in range(n):\n",
    "        pred[i] = labeller(xtest[i], hypx, hypy)\n",
    "    generror = error(pred, ytest)\n",
    "    return generror"
   ]
  },
  {
   "cell_type": "code",
   "execution_count": 84,
   "metadata": {
    "collapsed": true
   },
   "outputs": [],
   "source": [
    "# Computing the approximate generalization errors for 100 independent concepts c and associated training sets of size m , \n",
    "# and returning the worst-case generalization error\n",
    "def batch(m, d, itr = 500):\n",
    "    n = 1000\n",
    "    generr = np.empty((itr))\n",
    "    for i in range (n):\n",
    "        rd = np.random.uniform(low=0, high=100, size=4)\n",
    "        conx = np.sort(rd[:2])\n",
    "        cony = np.sort(rd[2:])\n",
    "        hypx, hypy = hyptrain(m, conx, cony)\n",
    "        generror[i] = testerror(n, conx, cony, hypx, hypy)\n",
    "    maxerror = np.max(generror)\n",
    "    percerror = np.percentile(generror, 100*(1-d))\n",
    "    print(\"The maximum generalization error is : {}\".format(maxerror))\n",
    "    print(\"The {}th percentile is : {}\".format(int(100*(1-delta)), percerror))\n",
    "    return generror, maxerror, percerror"
   ]
  },
  {
   "cell_type": "code",
   "execution_count": 85,
   "metadata": {
    "collapsed": true
   },
   "outputs": [],
   "source": [
    "def part_A():\n",
    "    rnd = np.random.uniform(low=0, high=100, size=4)\n",
    "    conx = np.sort(rnd[:2])\n",
    "    cony = np.sort(rnd[2:])\n",
    "    hypx, hypy = hyptrain(250, conx, cony)\n",
    "    generror = testerror(1000, conx, cony, hypx, hypy)\n",
    "    print('The concept rectangle points are :{},{}'.format(conx, cony))\n",
    "    print('The hypothesis rectangle points are : {},{}'.format(hypx, hypy))\n",
    "    print('The generalization error is {}'.format(generror))"
   ]
  },
  {
   "cell_type": "code",
   "execution_count": 86,
   "metadata": {},
   "outputs": [
    {
     "name": "stdout",
     "output_type": "stream",
     "text": [
      "The concept rectangle points are :[ 21.14316299  92.84264978],[ 50.23525056  67.57490511]\n",
      "The hypothesis rectangle points are : [97.097599015283592, 97.799169448972918],[60.658745719819287, 63.554018415473656]\n",
      "The generalization error is 0.094\n"
     ]
    }
   ],
   "source": [
    "part_A()"
   ]
  },
  {
   "cell_type": "code",
   "execution_count": null,
   "metadata": {
    "collapsed": true
   },
   "outputs": [],
   "source": []
  },
  {
   "cell_type": "code",
   "execution_count": null,
   "metadata": {
    "collapsed": true
   },
   "outputs": [],
   "source": []
  }
 ],
 "metadata": {
  "kernelspec": {
   "display_name": "Python 3",
   "language": "python",
   "name": "python3"
  },
  "language_info": {
   "codemirror_mode": {
    "name": "ipython",
    "version": 3
   },
   "file_extension": ".py",
   "mimetype": "text/x-python",
   "name": "python",
   "nbconvert_exporter": "python",
   "pygments_lexer": "ipython3",
   "version": "3.6.1"
  }
 },
 "nbformat": 4,
 "nbformat_minor": 2
}
